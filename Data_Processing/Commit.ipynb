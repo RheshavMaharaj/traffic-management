{
  "nbformat": 4,
  "nbformat_minor": 0,
  "metadata": {
    "colab": {
      "provenance": []
    },
    "kernelspec": {
      "name": "python3",
      "display_name": "Python 3"
    },
    "language_info": {
      "name": "python"
    }
  },
  "cells": [
    {
      "cell_type": "markdown",
      "source": [
        "#Linear Regression Model to Predict Hourly Threshold"
      ],
      "metadata": {
        "id": "8xpCXcvlx4E_"
      }
    },
    {
      "cell_type": "markdown",
      "source": [
        "### Importing required modules"
      ],
      "metadata": {
        "id": "2r92-8SCyFex"
      }
    },
    {
      "cell_type": "code",
      "source": [
        "import pandas as pd\n",
        "import numpy as np\n",
        "from sklearn.linear_model import LinearRegression\n",
        "from sklearn.preprocessing import PolynomialFeatures\n",
        "from sklearn.model_selection import train_test_split\n",
        "import sys"
      ],
      "metadata": {
        "id": "CpKWRZ9KvejG"
      },
      "execution_count": 1,
      "outputs": []
    },
    {
      "cell_type": "markdown",
      "source": [
        "Linear Regression Model which predicts if there is congestion or no congestation. This model uses the dataset created by fahad."
      ],
      "metadata": {
        "id": "o8jC9iDfxMYj"
      }
    },
    {
      "cell_type": "code",
      "source": [
        "hourly_samples_path = 'https://drive.google.com/uc?export=download&id=1bkbxmNhTE0i096XbdgmSb29Q--vkxwGq'\n",
        "df = pd.read_csv(hourly_samples_path)"
      ],
      "metadata": {
        "id": "VpRT18wOvYwp"
      },
      "execution_count": 2,
      "outputs": []
    },
    {
      "cell_type": "code",
      "source": [
        "def pre_processing(dataframe):\n",
        "    dataframe['congested'] = np.where(dataframe.traffic_hourly_count >= dataframe.threshold, 1, 0)\n",
        "    features = dataframe.iloc[:, :]\n",
        "    target = dataframe.iloc[:, 10]\n",
        "    columns_drop = [\"full_name\", 'threshold']\n",
        "    features = features.drop(columns_drop, axis=1)\n",
        "    return features, target"
      ],
      "metadata": {
        "id": "mkPdmn_vwqkT"
      },
      "execution_count": 9,
      "outputs": []
    },
    {
      "cell_type": "code",
      "source": [
        "def evaluate(model, x_train, y_train, x_test, y_test ):\n",
        "    if(model == None):\n",
        "        print(\"Model does not exist\")\n",
        "        return\n",
        "    print(f\"Train accuracy {model.score(x_train,y_train)} \")\n",
        "    print(f\"Test accuracy {model.score(x_test,y_test)} \")\n",
        "    return"
      ],
      "metadata": {
        "id": "bSguqoGfwFtY"
      },
      "execution_count": 10,
      "outputs": []
    },
    {
      "cell_type": "code",
      "source": [
        "x, y = pre_processing(df)\n",
        "x_train, x_test, y_train, y_test = train_test_split(x,y,test_size=0.3,random_state=10)\n",
        "    \n",
        "model = LinearRegression()\n",
        "model.fit(x_train,y_train)\n",
        "\n",
        "evaluate(model, x_train, y_train, x_test, y_test)"
      ],
      "metadata": {
        "colab": {
          "base_uri": "https://localhost:8080/"
        },
        "id": "PbESXUZywPNh",
        "outputId": "9da21910-f0e9-48d8-8b81-0e844695f2ec"
      },
      "execution_count": 11,
      "outputs": [
        {
          "output_type": "stream",
          "name": "stdout",
          "text": [
            "Train accuracy 0.799099423890875 \n",
            "Test accuracy 0.7885262300158391 \n"
          ]
        }
      ]
    }
  ]
}