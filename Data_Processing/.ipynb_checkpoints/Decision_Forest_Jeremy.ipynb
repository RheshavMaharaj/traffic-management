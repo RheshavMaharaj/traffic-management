{
 "cells": [
  {
   "cell_type": "markdown",
   "metadata": {},
   "source": [
    "### Model Training"
   ]
  },
  {
   "cell_type": "code",
   "execution_count": null,
   "metadata": {},
   "outputs": [],
   "source": [
    "# Full Tutorial https://blog.tensorflow.org/2021/05/introducing-tensorflow-decision-forests.html\n",
    "\n",
    "# Install TensorFlow Decision Forests\n",
    "%pip install tensorflow_decision_forests"
   ]
  },
  {
   "cell_type": "code",
   "execution_count": null,
   "metadata": {},
   "outputs": [],
   "source": [
    "# Load TensorFlow Decision Forests\n",
    "import tensorflow_decision_forests as tfdf\n",
    "\n",
    "# Load the training dataset using pandas\n",
    "import pandas\n",
    "train_df = pandas.read_csv(\"PATH TO FILE\")"
   ]
  },
  {
   "cell_type": "code",
   "execution_count": null,
   "metadata": {},
   "outputs": [],
   "source": [
    "# Convert the pandas dataframe into a TensorFlow dataset\n",
    "train_ds = tfdf.keras.pd_dataframe_to_tf_dataset(train_df, label=\"Congested\")\n",
    "\n",
    "# Train the model\n",
    "model = tfdf.keras.RandomForestModel()\n",
    "model.fit(train_ds)"
   ]
  },
  {
   "cell_type": "markdown",
   "metadata": {},
   "source": [
    "### Evaluating the Model"
   ]
  },
  {
   "cell_type": "code",
   "execution_count": null,
   "metadata": {},
   "outputs": [],
   "source": [
    "# Load the testing dataset\n",
    "test_df = pandas.read_csv(\"PATH TO FILE\")\n",
    "\n",
    "# Convert it to a TensorFlow dataset\n",
    "test_ds = tfdf.keras.pd_dataframe_to_tf_dataset(test_df, label=\"Congested\")\n",
    "\n",
    "# Evaluate the model\n",
    "model.compile(metrics=[\"accuracy\"])\n",
    "print(model.evaluate(test_ds))\n",
    "# >> 0.979311\n",
    "# Note: Cross-validation would be more suited on this small dataset.\n",
    "# See also the \"Out-of-bag evaluation\" below.\n",
    "\n",
    "# Export the model to a TensorFlow SavedModel\n",
    "model.save(\"project/model_name\")"
   ]
  },
  {
   "cell_type": "markdown",
   "metadata": {},
   "source": [
    "### Interpreting the Model"
   ]
  },
  {
   "cell_type": "code",
   "execution_count": null,
   "metadata": {},
   "outputs": [],
   "source": [
    "tfdf.model_plotter.plot_model_in_colab(model, tree_idx=0)"
   ]
  },
  {
   "cell_type": "code",
   "execution_count": null,
   "metadata": {},
   "outputs": [],
   "source": [
    "# Print all the available information about the model\n",
    "model.summary()"
   ]
  },
  {
   "cell_type": "code",
   "execution_count": null,
   "metadata": {},
   "outputs": [],
   "source": [
    "# Get feature importance as a array\n",
    "model.make_inspector().variable_importances()[\"MEAN_DECREASE_IN_ACCURACY\"]"
   ]
  },
  {
   "cell_type": "markdown",
   "metadata": {},
   "source": [
    "### Tuning the Model"
   ]
  },
  {
   "cell_type": "code",
   "execution_count": null,
   "metadata": {},
   "outputs": [],
   "source": [
    "# List all the other available learning algorithms\n",
    "tfdf.keras.get_all_models()\n",
    "\n",
    "# Display the hyper-parameters of the Gradient Boosted Trees model \n",
    "tfdf.keras.GradientBoostedTreesModel\n",
    "\n",
    "# Create another model with specified hyper-parameters\n",
    "model = tfdf.keras.GradientBoostedTreesModel(\n",
    "    num_trees=500,\n",
    "    growing_strategy=\"BEST_FIRST_GLOBAL\",\n",
    "    max_depth=8,\n",
    "    split_axis=\"SPARSE_OBLIQUE\",\n",
    "    )\n",
    "\n",
    "# Evaluate the model\n",
    "model.compile(metrics=[\"accuracy\"])\n",
    "print(model.evaluate(test_ds))"
   ]
  }
 ],
 "metadata": {
  "language_info": {
   "name": "python"
  },
  "orig_nbformat": 4
 },
 "nbformat": 4,
 "nbformat_minor": 2
}
