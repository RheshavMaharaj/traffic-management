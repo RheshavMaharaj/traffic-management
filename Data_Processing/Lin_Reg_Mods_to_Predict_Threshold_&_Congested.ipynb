{
  "nbformat": 4,
  "nbformat_minor": 0,
  "metadata": {
    "colab": {
      "provenance": [],
      "collapsed_sections": []
    },
    "kernelspec": {
      "name": "python3",
      "display_name": "Python 3"
    },
    "language_info": {
      "name": "python"
    }
  },
  "cells": [
    {
      "cell_type": "code",
      "execution_count": 67,
      "metadata": {
        "id": "TSFM4Q0Rs-Ku"
      },
      "outputs": [],
      "source": [
        "import pandas as pd\n",
        "import numpy as np\n",
        "import tensorflow as tf\n",
        "\n",
        "from tensorflow.keras import layers\n",
        "\n",
        "\n",
        "from sklearn.linear_model import LinearRegression\n",
        "from sklearn.preprocessing import PolynomialFeatures\n",
        "from sklearn.model_selection import train_test_split\n",
        "import sys"
      ]
    },
    {
      "cell_type": "code",
      "source": [
        "tf.__version__"
      ],
      "metadata": {
        "colab": {
          "base_uri": "https://localhost:8080/",
          "height": 35
        },
        "id": "xuvvBA_ItBFz",
        "outputId": "20efa942-260d-4c6d-c624-76ecab471ca9"
      },
      "execution_count": 68,
      "outputs": [
        {
          "output_type": "execute_result",
          "data": {
            "text/plain": [
              "'2.9.2'"
            ],
            "application/vnd.google.colaboratory.intrinsic+json": {
              "type": "string"
            }
          },
          "metadata": {},
          "execution_count": 68
        }
      ]
    },
    {
      "cell_type": "markdown",
      "source": [
        "#Linear Regression Model 1"
      ],
      "metadata": {
        "id": "nmqEJbUASQB5"
      }
    },
    {
      "cell_type": "code",
      "source": [
        "import pandas as pd\n",
        "import numpy as np\n",
        "from sklearn.linear_model import LinearRegression\n",
        "from sklearn.preprocessing import PolynomialFeatures\n",
        "from sklearn.model_selection import train_test_split\n",
        "import sys\n",
        "\n",
        "\n",
        "def main():\n",
        "    hourly_samples_path = 'https://drive.google.com/uc?export=download&id=1di7YkJN_eXvq3xkKj2dPp4Z0Rc9qhlkQ'\n",
        "    df = pd.read_csv(hourly_samples_path)\n",
        "    \n",
        "    x, y = pre_processing(df)\n",
        "    x_train, x_test, y_train, y_test = train_test_split(x,y,test_size=0.3,random_state=10)\n",
        "    \n",
        "    model = LinearRegression()\n",
        "    model.fit(x_train,y_train)\n",
        "\n",
        "    evaluate(model, x_train, y_train, x_test, y_test)\n",
        "\n",
        "    return\n",
        "\n",
        "def pre_processing(dataframe):\n",
        "    #include attributes of blue side\n",
        "\n",
        "    dataframe['congested'] = np.where(dataframe.traffic_hourly_count >= dataframe.threshold, 1, 0)\n",
        "\n",
        "    features = dataframe.iloc[:, 1:13]\n",
        "    target = np.where(dataframe['congested']==1,1, 0)\n",
        "    columns_drop = [\"threshold\", \"congested\", \"full_name\", \"time (hours)\"]\n",
        "    features = features.drop(columns_drop, axis=1)\n",
        "    #target = dataframe.iloc[:, 12]\n",
        "    \n",
        "    \n",
        "    #dataframe['target'] = np.where(dataframe['congested']==4,0, 1)\n",
        "    #dataframe = dataframe.drop(columns=['threshold', 'congested'])\n",
        "    \n",
        "    return features, target\n",
        "\n",
        "def evaluate(model, x_train, y_train, x_test, y_test ):\n",
        "    if(model == None):\n",
        "        print(\"Model does not exist\")\n",
        "        return\n",
        "\n",
        "    print(f\"Train accuracy {model.score(x_train,y_train)} \")\n",
        "    print(f\"Test accuracy {model.score(x_test,y_test)} \")\n",
        "    return \n",
        "\n",
        "main()"
      ],
      "metadata": {
        "colab": {
          "base_uri": "https://localhost:8080/"
        },
        "id": "hTVZLMTYuJSn",
        "outputId": "44a9feb0-1195-4dcb-cd86-90215512cd93"
      },
      "execution_count": 69,
      "outputs": [
        {
          "output_type": "stream",
          "name": "stdout",
          "text": [
            "Train accuracy 0.2856948591688774 \n",
            "Test accuracy 0.34675600232224313 \n"
          ]
        }
      ]
    },
    {
      "cell_type": "markdown",
      "source": [
        "#Linear Regression Model 2"
      ],
      "metadata": {
        "id": "2y9jvCKmSfmy"
      }
    },
    {
      "cell_type": "code",
      "source": [
        "import pandas as pd\n",
        "import numpy as np\n",
        "from sklearn.linear_model import LinearRegression\n",
        "from sklearn.preprocessing import PolynomialFeatures\n",
        "from sklearn.model_selection import train_test_split\n",
        "import sys\n",
        "\n",
        "\n",
        "def main():\n",
        "    hourly_samples_path = 'https://drive.google.com/uc?export=download&id=1bkbxmNhTE0i096XbdgmSb29Q--vkxwGq'\n",
        "    df = pd.read_csv(hourly_samples_path)\n",
        "    \n",
        "    x, y = pre_processing(df)\n",
        "    x_train, x_test, y_train, y_test = train_test_split(x,y,test_size=0.3,random_state=10)\n",
        "    \n",
        "    model = LinearRegression()\n",
        "    model.fit(x_train,y_train)\n",
        "\n",
        "    evaluate(model, x_train, y_train, x_test, y_test)\n",
        "\n",
        "    return\n",
        "\n",
        "def pre_processing(dataframe):\n",
        "\n",
        "    #creates a column which contains 1 or 0. if the daily count is higher than the threshold than it is congested. \n",
        "                                                #1 == congested, 0 == not congested.\n",
        "    dataframe['congested'] = np.where(dataframe.traffic_hourly_count >= dataframe.threshold, 1, 0)\n",
        "\n",
        "    features = dataframe.iloc[:, 1:12]\n",
        "    #make all entries which are congested as the target\n",
        "    target = np.where(dataframe['congested']==1,1, 0)\n",
        "\n",
        "    columns_drop = [\"threshold\", \"congested\", \"full_name\"]\n",
        "    features = features.drop(columns_drop, axis=1)\n",
        "    \n",
        "    #target = dataframe.iloc[:, 12]\n",
        "    #dataframe['target'] = np.where(dataframe['congested']==4,0, 1)\n",
        "    #dataframe = dataframe.drop(columns=['threshold', 'congested'])\n",
        "    \n",
        "    return features, target\n",
        "\n",
        "def evaluate(model, x_train, y_train, x_test, y_test ):\n",
        "    if(model == None):\n",
        "        print(\"Model does not exist\")\n",
        "        return\n",
        "\n",
        "    print(f\"Train accuracy {model.score(x_train,y_train)} \")\n",
        "    print(f\"Test accuracy {model.score(x_test,y_test)} \")\n",
        "    return\n",
        "\n",
        "main()"
      ],
      "metadata": {
        "colab": {
          "base_uri": "https://localhost:8080/"
        },
        "id": "Rsnhyo0pOfcc",
        "outputId": "6408562f-f20f-40dd-8eb5-b13f792976aa"
      },
      "execution_count": 70,
      "outputs": [
        {
          "output_type": "stream",
          "name": "stdout",
          "text": [
            "Train accuracy 0.392638773965604 \n",
            "Test accuracy 0.44045653480495517 \n"
          ]
        }
      ]
    },
    {
      "cell_type": "markdown",
      "source": [
        "#Model to Predict Threshold"
      ],
      "metadata": {
        "id": "aNZ1-odhc3lu"
      }
    },
    {
      "cell_type": "code",
      "source": [
        "import pandas as pd\n",
        "import numpy as np\n",
        "from sklearn.linear_model import LinearRegression\n",
        "from sklearn.preprocessing import PolynomialFeatures\n",
        "from sklearn.model_selection import train_test_split\n",
        "import sys\n",
        "\n",
        "\n",
        "def main():\n",
        "\n",
        "    hourly_samples_path = 'https://drive.google.com/uc?export=download&id=1bkbxmNhTE0i096XbdgmSb29Q--vkxwGq'\n",
        "    df = pd.read_csv(hourly_samples_path)\n",
        "    \n",
        "    x, y = pre_processing(df)\n",
        "    x_train, x_test, y_train, y_test = train_test_split(x,y,test_size=0.3,random_state=10)\n",
        "    \n",
        "    model = LinearRegression()\n",
        "    model.fit(x_train,y_train)\n",
        "\n",
        "    evaluate(model, x_train, y_train, x_test, y_test)\n",
        "\n",
        "    return\n",
        "\n",
        "def pre_processing(dataframe):\n",
        "    #creates a column which contains 1 or 0. if the daily count is higher than the threshold than it is congested. \n",
        "                                                #1 == congested, 0 == not congested.\n",
        "    dataframe['congested'] = np.where(dataframe.traffic_hourly_count >= dataframe.threshold, 1, 0)\n",
        "\n",
        "    #features = dataframe.iloc[:, 1:12]\n",
        "    features = dataframe.iloc[:, :]\n",
        "    \n",
        "    #target = np.where(dataframe['congested']==1,1, 0)\n",
        "    target = dataframe.iloc[:, 10]\n",
        "\n",
        "    #columns_drop = [\"threshold\", \"congested\", \"full_name\"]\n",
        "    columns_drop = [\"full_name\", 'threshold']\n",
        "    features = features.drop(columns_drop, axis=1)\n",
        "    \n",
        "    \n",
        "    return features, target\n",
        "\n",
        "def evaluate(model, x_train, y_train, x_test, y_test ):\n",
        "    if(model == None):\n",
        "        print(\"Model does not exist\")\n",
        "        return\n",
        "\n",
        "    print(f\"Train accuracy {model.score(x_train,y_train)} \")\n",
        "    print(f\"Test accuracy {model.score(x_test,y_test)} \")\n",
        "    return\n",
        "\n",
        "main()"
      ],
      "metadata": {
        "colab": {
          "base_uri": "https://localhost:8080/"
        },
        "id": "gPeLvxcBc9JL",
        "outputId": "babc79c1-0d4c-48cd-cb03-7eaeb7c85576"
      },
      "execution_count": 71,
      "outputs": [
        {
          "output_type": "stream",
          "name": "stdout",
          "text": [
            "Train accuracy 0.799099423890875 \n",
            "Test accuracy 0.7885262300158391 \n"
          ]
        }
      ]
    },
    {
      "cell_type": "markdown",
      "source": [
        "#Model to Predict if Congested or Not Congested"
      ],
      "metadata": {
        "id": "fKdXYop9fIXW"
      }
    },
    {
      "cell_type": "code",
      "source": [
        "import pandas as pd\n",
        "import numpy as np\n",
        "from sklearn.linear_model import LinearRegression\n",
        "from sklearn.preprocessing import PolynomialFeatures\n",
        "from sklearn.model_selection import train_test_split\n",
        "import sys\n",
        "\n",
        "\n",
        "def main():\n",
        "\n",
        "    hourly_samples_path = 'https://drive.google.com/uc?export=download&id=1bkbxmNhTE0i096XbdgmSb29Q--vkxwGq'\n",
        "    df = pd.read_csv(hourly_samples_path)\n",
        "    \n",
        "    x, y = pre_processing(df)\n",
        "    x_train, x_test, y_train, y_test = train_test_split(x,y,test_size=0.3,random_state=10)\n",
        "    \n",
        "    model = LinearRegression()\n",
        "    model.fit(x_train,y_train)\n",
        "\n",
        "    evaluate(model, x_train, y_train, x_test, y_test)\n",
        "\n",
        "    return\n",
        "\n",
        "def pre_processing(dataframe):\n",
        "    #creates a column which contains 1 or 0. if the daily count is higher than the threshold than it is congested. \n",
        "                                                #1 == congested, 0 == not congested.\n",
        "    dataframe['congested'] = np.where(dataframe.traffic_hourly_count >= dataframe.threshold, 1, 0)\n",
        "\n",
        "    #features = dataframe.iloc[:, 1:12]\n",
        "    features = dataframe.iloc[:, :]\n",
        "    \n",
        "    #target = np.where(dataframe['congested']==1,1, 0)\n",
        "    target = dataframe.iloc[:, 11]\n",
        "\n",
        "    #columns_drop = [\"threshold\", \"congested\", \"full_name\"]\n",
        "    columns_drop = [\"full_name\", 'congested']\n",
        "    features = features.drop(columns_drop, axis=1)\n",
        "    \n",
        "    \n",
        "    return features, target\n",
        "\n",
        "def evaluate(model, x_train, y_train, x_test, y_test ):\n",
        "    if(model == None):\n",
        "        print(\"Model does not exist\")\n",
        "        return\n",
        "\n",
        "    print(f\"Train accuracy {model.score(x_train,y_train)} \")\n",
        "    print(f\"Test accuracy {model.score(x_test,y_test)} \")\n",
        "    return\n",
        "\n",
        "main()"
      ],
      "metadata": {
        "colab": {
          "base_uri": "https://localhost:8080/"
        },
        "id": "_LvI-lwbfO_Z",
        "outputId": "ee2d0895-84bb-4974-feb0-2c90899e4a9b"
      },
      "execution_count": 72,
      "outputs": [
        {
          "output_type": "stream",
          "name": "stdout",
          "text": [
            "Train accuracy 0.419007867802924 \n",
            "Test accuracy 0.4265889438952244 \n"
          ]
        }
      ]
    },
    {
      "cell_type": "markdown",
      "source": [
        "#Testing Section"
      ],
      "metadata": {
        "id": "baJNdk-nZ4s5"
      }
    },
    {
      "cell_type": "code",
      "source": [
        "hourly_samples_path = 'https://drive.google.com/uc?export=download&id=1bkbxmNhTE0i096XbdgmSb29Q--vkxwGq'\n",
        "df = pd.read_csv(hourly_samples_path)\n",
        "\n",
        "df['congested'] = np.where(df.traffic_hourly_count >= df.threshold, 1, 0)\n",
        "\n",
        "features = df.iloc[:, 0:12]\n",
        "#target = np.where(df['congested']==4,1, 0)\n",
        "\n",
        "#df['target'] = np.where(df['congested']==1,1, 0)\n",
        "\n",
        "#features.head()\n",
        "df.head(100)"
      ],
      "metadata": {
        "id": "7JBMU0UiWTxQ"
      },
      "execution_count": null,
      "outputs": []
    },
    {
      "cell_type": "code",
      "source": [
        "#gets the index of a column\n",
        "df.columns.get_loc('congested')"
      ],
      "metadata": {
        "id": "c5dY4L98WaMP"
      },
      "execution_count": null,
      "outputs": []
    }
  ]
}