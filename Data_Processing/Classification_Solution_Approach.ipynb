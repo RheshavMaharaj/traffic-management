{
  "cells": [
    {
      "cell_type": "code",
      "execution_count": null,
      "metadata": {
        "id": "S89QCtp9dw47"
      },
      "outputs": [],
      "source": [
        "import pandas as pd\n",
        "from sklearn.linear_model import LinearRegression\n",
        "from sklearn.preprocessing import PolynomialFeatures\n",
        "from sklearn.model_selection import train_test_split\n",
        "import sys\n",
        "\n",
        "#reading the dataset\n",
        "hourly_samples_path = 'https://drive.google.com/uc?id=1URz3Zp1sS9n8cK0H47RJiNdV55LxXiYY'\n",
        "df1 = pd.read_csv(hourly_samples_path, usecols=['station_key', 'hour_00', 'hour_01', 'hour_02', 'hour_03', 'hour_04', 'hour_05', 'hour_06', 'hour_07', 'hour_08', 'hour_09', 'hour_10', 'hour_11', 'hour_12', 'hour_13', 'hour_14', 'hour_15', 'hour_16', 'hour_17', 'hour_17', 'hour_18', 'hour_19', 'hour_20', 'hour_21', 'hour_22', 'hour_23'])\n",
        "\n"
      ]
    },
    {
      "cell_type": "code",
      "execution_count": null,
      "metadata": {
        "id": "tumKWaure_TM"
      },
      "outputs": [],
      "source": [
        "#filling NaN values with 0\n",
        "df = df.fillna(0)\n",
        "\n",
        "#converting the types properly\n",
        "print(\"Original_dtypes:\")\n",
        "print(df1.dtypes)\n",
        " \n",
        "df = df1.convert_dtypes()\n",
        " \n",
        "print(\"New_dtypes:\")\n",
        "print(df.dtypes)\n"
      ]
    },
    {
      "cell_type": "code",
      "execution_count": null,
      "metadata": {
        "id": "bgdFGQgJf4xG"
      },
      "outputs": [],
      "source": [
        "#make station catergorical (string)\n",
        "df[\"station_key\"] = df['station_key'].astype('string')\n",
        "print(df.dtypes)"
      ]
    },
    {
      "cell_type": "code",
      "execution_count": null,
      "metadata": {
        "id": "3jCrR65ugL9j"
      },
      "outputs": [],
      "source": [
        "#switching columns and rows of the dataset - basically flips everything\n",
        "#df_transposed = df.T\n",
        "#removing NaN values from set\n",
        "#df_transposed.fillna(0)"
      ]
    },
    {
      "cell_type": "code",
      "execution_count": null,
      "metadata": {
        "id": "B4xSaABxgUBd"
      },
      "outputs": [],
      "source": [
        "#add a row with the max value * 0.80 - which will show 'congested bar'\n",
        "df['highest_count'] = df[['hour_00', 'hour_01', 'hour_02', 'hour_03', 'hour_04', 'hour_05', 'hour_06', 'hour_07', 'hour_08', 'hour_09', 'hour_10', 'hour_11', 'hour_12', 'hour_13', 'hour_14', 'hour_15', 'hour_16', 'hour_17', 'hour_17', 'hour_18', 'hour_19', 'hour_20', 'hour_21', 'hour_22', 'hour_23']].max(axis=1)\n",
        "print(df)"
      ]
    },
    {
      "cell_type": "code",
      "execution_count": null,
      "metadata": {
        "id": "roZDY9oJgavG"
      },
      "outputs": [],
      "source": [
        "#MAYBE add a row with the max value * 0.80 - which will show 'congested bar'"
      ]
    },
    {
      "cell_type": "code",
      "execution_count": null,
      "metadata": {
        "id": "nmbK6j7Bgh1S"
      },
      "outputs": [],
      "source": [
        "df.head()\n",
        "#df['target'] = np.where(df['AdoptionSpeed']==4, 0, 1)"
      ]
    }
  ],
  "metadata": {
    "colab": {
      "collapsed_sections": [],
      "provenance": []
    },
    "kernelspec": {
      "display_name": "Python 3",
      "name": "python3"
    },
    "language_info": {
      "name": "python"
    }
  },
  "nbformat": 4,
  "nbformat_minor": 0
}
