{
  "nbformat": 4,
  "nbformat_minor": 0,
  "metadata": {
    "colab": {
      "provenance": []
    },
    "kernelspec": {
      "name": "python3",
      "display_name": "Python 3"
    },
    "language_info": {
      "name": "python"
    }
  },
  "cells": [
    {
      "cell_type": "markdown",
      "source": [
        "#Linear Regression Model to Predict Hourly Threshold"
      ],
      "metadata": {
        "id": "7GrKsgGNUegy"
      }
    },
    {
      "cell_type": "markdown",
      "source": [
        "### Importing required modules"
      ],
      "metadata": {
        "id": "DlZyAKvMUegy"
      }
    },
    {
      "cell_type": "code",
      "source": [
        "import pandas as pd\n",
        "import numpy as np\n",
        "from numpy import mean\n",
        "from numpy import absolute\n",
        "from numpy import sqrt\n",
        "from sklearn.linear_model import LinearRegression\n",
        "from sklearn.preprocessing import PolynomialFeatures\n",
        "from sklearn.model_selection import train_test_split\n",
        "from sklearn.model_selection import KFold\n",
        "from sklearn.model_selection import cross_val_score\n",
        "import sys"
      ],
      "metadata": {
        "id": "IKfSSDFkUegz"
      },
      "execution_count": 11,
      "outputs": []
    },
    {
      "cell_type": "markdown",
      "source": [
        "Linear Regression Model which predicts if there is congestion or no congestation. This model uses the dataset created by fahad."
      ],
      "metadata": {
        "id": "6-ja5drkUegz"
      }
    },
    {
      "cell_type": "code",
      "source": [
        "hourly_samples_path = 'https://drive.google.com/uc?export=download&id=1bkbxmNhTE0i096XbdgmSb29Q--vkxwGq'\n",
        "df = pd.read_csv(hourly_samples_path)"
      ],
      "metadata": {
        "id": "oAzc_wRyUegz"
      },
      "execution_count": 12,
      "outputs": []
    },
    {
      "cell_type": "code",
      "source": [
        "df.head()"
      ],
      "metadata": {
        "id": "pQuYv4bpUeg0"
      },
      "execution_count": null,
      "outputs": []
    },
    {
      "cell_type": "code",
      "source": [
        "def pre_processing(dataframe):\n",
        "    dataframe['congested'] = np.where(dataframe.traffic_hourly_count >= dataframe.threshold, 1, 0)\n",
        "    features = dataframe.iloc[:, :]\n",
        "    target = dataframe.iloc[:, 10]\n",
        "    columns_drop = ['full_name', 'threshold','latitude', 'longitude']\n",
        "    features = features.drop(columns_drop, axis=1)\n",
        "    return features, target"
      ],
      "metadata": {
        "id": "5BkPB2WLUeg0"
      },
      "execution_count": 13,
      "outputs": []
    },
    {
      "cell_type": "code",
      "source": [
        "def evaluate(model, x_train, y_train, x_test, y_test ):\n",
        "    if(model == None):\n",
        "        print(\"Model does not exist\")\n",
        "        return\n",
        "    print(f\"Train accuracy {model.score(x_train,y_train)} \")\n",
        "    print(f\"Test accuracy {model.score(x_test,y_test)} \")\n",
        "    return"
      ],
      "metadata": {
        "id": "IV8nK7oYUeg0"
      },
      "execution_count": 14,
      "outputs": []
    },
    {
      "cell_type": "code",
      "source": [
        "x, y = pre_processing(df)\n",
        "x_train, x_test, y_train, y_test = train_test_split(x,y,test_size=0.3,random_state=10)\n",
        "\n",
        "#Build multiple linear regression model\n",
        "model = LinearRegression()\n",
        "model.fit(x_train,y_train)\n",
        "\n",
        "evaluate(model, x_train, y_train, x_test, y_test)"
      ],
      "metadata": {
        "colab": {
          "base_uri": "https://localhost:8080/"
        },
        "outputId": "31c9b1da-23f8-4e17-a20c-4251b75cac1f",
        "id": "b4eb-X-UUeg1"
      },
      "execution_count": 31,
      "outputs": [
        {
          "output_type": "stream",
          "name": "stdout",
          "text": [
            "Train accuracy 0.6137394170973683 \n",
            "Test accuracy 0.5314140549095809 \n"
          ]
        }
      ]
    },
    {
      "cell_type": "markdown",
      "source": [
        "## Evaluating Model performance using MAE (Mean Absolute Error)\n",
        "The Lower the Better"
      ],
      "metadata": {
        "id": "YjX2MRcrYauD"
      }
    },
    {
      "cell_type": "code",
      "source": [
        "# Defined cross-validation method to use\n",
        "cv = KFold(n_splits=10, random_state=1, shuffle=True)\n",
        "\n",
        "# Using k-fold CV to evaluate model\n",
        "scores = cross_val_score(model, x, y, scoring='neg_mean_absolute_error',\n",
        "                         cv=cv, n_jobs=-1)\n",
        "# View mean absolute error\n",
        "print('Mean Absolute Error is ')\n",
        "mean(absolute(scores))"
      ],
      "metadata": {
        "colab": {
          "base_uri": "https://localhost:8080/"
        },
        "id": "YpjwY3B1Xvob",
        "outputId": "2e099f45-02a8-43ed-ff36-1dc854306f2a"
      },
      "execution_count": 38,
      "outputs": [
        {
          "output_type": "stream",
          "name": "stdout",
          "text": [
            "Mean Absolute Error is \n"
          ]
        },
        {
          "output_type": "execute_result",
          "data": {
            "text/plain": [
              "174.5583066921808"
            ]
          },
          "metadata": {},
          "execution_count": 38
        }
      ]
    },
    {
      "cell_type": "markdown",
      "source": [
        "## Evaluating Model performance using RMSE (Root Mean Squared Error)\n",
        "The Lower the Better"
      ],
      "metadata": {
        "id": "4WEJUuk3YOGv"
      }
    },
    {
      "cell_type": "code",
      "source": [
        "# Defined cross-validation method to use\n",
        "cv = KFold(n_splits=5, random_state=1, shuffle=True) \n",
        "\n",
        "# Using Leave One Out Cross Validation to evaluate model\n",
        "scores = cross_val_score(model, x, y, scoring='neg_mean_squared_error',\n",
        "                         cv=cv, n_jobs=-1)\n",
        "#view RMSE\n",
        "print('Root Mean Squared Error is ')\n",
        "sqrt(mean(absolute(scores)))"
      ],
      "metadata": {
        "colab": {
          "base_uri": "https://localhost:8080/"
        },
        "id": "YVTXBtbrUeg3",
        "outputId": "8ad1f307-2682-4360-9086-a658b2fda97e"
      },
      "execution_count": 39,
      "outputs": [
        {
          "output_type": "stream",
          "name": "stdout",
          "text": [
            "Root Mean Squared Error is \n"
          ]
        },
        {
          "output_type": "execute_result",
          "data": {
            "text/plain": [
              "225.2045912288194"
            ]
          },
          "metadata": {},
          "execution_count": 39
        }
      ]
    }
  ]
}