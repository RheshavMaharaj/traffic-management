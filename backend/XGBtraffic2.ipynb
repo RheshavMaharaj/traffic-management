{
 "cells": [
  {
   "cell_type": "code",
   "execution_count": null,
   "metadata": {},
   "outputs": [],
   "source": [
    "from sklearn.metrics import mean_squared_error\n",
    "from sklearn.model_selection import train_test_split\n",
    "from xgboost import XGBClassifier\n",
    "import matplotlib.pyplot as plt\n",
    "import pandas as pd\n",
    "import numpy as np\n",
    "import time\n"
   ]
  },
  {
   "cell_type": "code",
   "execution_count": null,
   "metadata": {},
   "outputs": [],
   "source": [
    "df = pd.read_csv(r'TestModelData.csv')\n",
    "data = pd.DataFrame(df)\n",
    "data.head()"
   ]
  },
  {
   "cell_type": "code",
   "execution_count": null,
   "metadata": {},
   "outputs": [],
   "source": [
    "# below all rows and all the columns but the last set to X and only the last column in y\n",
    "X, y = data.iloc[:,4:-1], data.iloc[:,-1]\n",
    "#data_dmatrix = xgb.DMatrix(data=X, label=y)\n",
    "col = pd.Categorical(y)\n",
    "y =pd.Series(col.codes)\n",
    "clean_X = preprocessing_pipeline.fit_transform(X)\n",
    "clean_X_df= pd.DataFrame(clean_X, columns = X.columns)"
   ]
  },
  {
   "cell_type": "code",
   "execution_count": 1,
   "metadata": {},
   "outputs": [],
   "source": [
    "X_train, X_test, y_train, y_test = train_test_split(X, y, test_size=0.3, random_state=123)#test size original 0.2\n",
    "model =XGBClassifier(n_estimators=500, random_seed = 123)\n",
    "%time model.fit(X_train, y_train, eval_metric = eval_metric, eval_set=eval_set, verbise = False)\n",
    "predsTrain = model.predict(X_train)\n",
    "predsTest = model.predict(X_test)"
   ]
  },
  {
   "cell_type": "code",
   "execution_count": null,
   "metadata": {},
   "outputs": [],
   "source": [
    "print('Train Accuracy: ', accuracy_score(y_train, predTrain))\n",
    "print('Test Accuraccy: ', accuracy_score(y_test, predTest))\n",
    "print('Classification Report:')\n",
    "print(classification_report(y_test,predTest))"
   ]
  }
 ],
 "metadata": {
  "kernelspec": {
   "display_name": "Python 3.10.8 64-bit (microsoft store)",
   "language": "python",
   "name": "python3"
  },
  "language_info": {
   "codemirror_mode": {
    "name": "ipython",
    "version": 3
   },
   "file_extension": ".py",
   "mimetype": "text/x-python",
   "name": "python",
   "nbconvert_exporter": "python",
   "pygments_lexer": "ipython3",
   "version": "3.10.8"
  },
  "orig_nbformat": 4,
  "vscode": {
   "interpreter": {
    "hash": "0548ad00cc70ff6b05c0ae41dfc3d498b0dfcae8d791bc0e81aed826459c28ba"
   }
  }
 },
 "nbformat": 4,
 "nbformat_minor": 2
}
